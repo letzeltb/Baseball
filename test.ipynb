{
 "metadata": {
  "language_info": {
   "codemirror_mode": {
    "name": "ipython",
    "version": 3
   },
   "file_extension": ".py",
   "mimetype": "text/x-python",
   "name": "python",
   "nbconvert_exporter": "python",
   "pygments_lexer": "ipython3",
   "version": "3.7.1-final"
  },
  "orig_nbformat": 2,
  "kernelspec": {
   "name": "python3",
   "display_name": "Python 3.7.1 64-bit (conda)",
   "metadata": {
    "interpreter": {
     "hash": "9a39ba30563064e6a05e03d477260dfb8fc9bcb263f6c9c85d0783d77f887aa5"
    }
   }
  }
 },
 "nbformat": 4,
 "nbformat_minor": 2,
 "cells": [
  {
   "cell_type": "code",
   "execution_count": 1,
   "metadata": {},
   "outputs": [],
   "source": [
    "import pandas as pd\n",
    "import os\n",
    "import numpy as np\n",
    "import matplotlib.pyplot as plt"
   ]
  },
  {
   "cell_type": "code",
   "execution_count": 2,
   "metadata": {},
   "outputs": [],
   "source": [
    "a = pd.read_csv(r'batting.csv')"
   ]
  },
  {
   "cell_type": "code",
   "execution_count": 4,
   "metadata": {},
   "outputs": [
    {
     "output_type": "execute_result",
     "data": {
      "text/plain": [
       "        playerID  yearID  stint teamID lgID    G   AB    R    H  2B  ...   \\\n",
       "65375  biggicr01    1988      1    HOU   NL   50  123   14   26   6  ...    \n",
       "66423  biggicr01    1989      1    HOU   NL  134  443   64  114  21  ...    \n",
       "67489  biggicr01    1990      1    HOU   NL  150  555   53  153  24  ...    \n",
       "68611  biggicr01    1991      1    HOU   NL  149  546   79  161  23  ...    \n",
       "69693  biggicr01    1992      1    HOU   NL  162  613   96  170  32  ...    \n",
       "70763  biggicr01    1993      1    HOU   NL  155  610   98  175  41  ...    \n",
       "71926  biggicr01    1994      1    HOU   NL  114  437   88  139  44  ...    \n",
       "72988  biggicr01    1995      1    HOU   NL  141  553  123  167  30  ...    \n",
       "74243  biggicr01    1996      1    HOU   NL  162  605  113  174  24  ...    \n",
       "75494  biggicr01    1997      1    HOU   NL  162  619  146  191  37  ...    \n",
       "76737  biggicr01    1998      1    HOU   NL  160  646  123  210  51  ...    \n",
       "78061  biggicr01    1999      1    HOU   NL  160  639  123  188  56  ...    \n",
       "79366  biggicr01    2000      1    HOU   NL  101  377   67  101  13  ...    \n",
       "80740  biggicr01    2001      1    HOU   NL  155  617  118  180  35  ...    \n",
       "82072  biggicr01    2002      1    HOU   NL  145  577   96  146  36  ...    \n",
       "83399  biggicr01    2003      1    HOU   NL  153  628  102  166  44  ...    \n",
       "84749  biggicr01    2004      1    HOU   NL  156  633  100  178  47  ...    \n",
       "86081  biggicr01    2005      1    HOU   NL  155  590   94  156  40  ...    \n",
       "87419  biggicr01    2006      1    HOU   NL  145  548   79  135  33  ...    \n",
       "88789  biggicr01    2007      1    HOU   NL  141  517   68  130  31  ...    \n",
       "\n",
       "        RBI    SB    CS  BB     SO  IBB   HBP    SH   SF  GIDP  \n",
       "65375   5.0   6.0   1.0   7   29.0  2.0   0.0   1.0  0.0   1.0  \n",
       "66423  60.0  21.0   3.0  49   64.0  8.0   6.0   6.0  5.0   7.0  \n",
       "67489  42.0  25.0  11.0  53   79.0  1.0   3.0   9.0  1.0  11.0  \n",
       "68611  46.0  19.0   6.0  53   71.0  3.0   2.0   5.0  3.0   2.0  \n",
       "69693  39.0  38.0  15.0  94   95.0  9.0   7.0   5.0  2.0   5.0  \n",
       "70763  64.0  15.0  17.0  77   93.0  7.0  10.0   4.0  5.0  10.0  \n",
       "71926  56.0  39.0   4.0  62   58.0  1.0   8.0   2.0  2.0   5.0  \n",
       "72988  77.0  33.0   8.0  80   85.0  1.0  22.0  11.0  7.0   6.0  \n",
       "74243  75.0  25.0   7.0  75   72.0  0.0  27.0   8.0  8.0  10.0  \n",
       "75494  81.0  47.0  10.0  84  107.0  6.0  34.0   0.0  7.0   0.0  \n",
       "76737  88.0  50.0   8.0  64  113.0  6.0  23.0   1.0  4.0  10.0  \n",
       "78061  73.0  28.0  14.0  88  107.0  9.0  11.0   5.0  6.0   5.0  \n",
       "79366  35.0  12.0   2.0  61   73.0  3.0  16.0   7.0  5.0  10.0  \n",
       "80740  70.0   7.0   4.0  66  100.0  4.0  28.0   0.0  6.0  11.0  \n",
       "82072  58.0  16.0   2.0  50  111.0  2.0  17.0   9.0  2.0  15.0  \n",
       "83399  62.0   8.0   4.0  57  116.0  3.0  27.0   3.0  2.0   4.0  \n",
       "84749  63.0   7.0   2.0  40   94.0  0.0  15.0   9.0  3.0   8.0  \n",
       "86081  69.0  11.0   1.0  37   90.0  2.0  17.0   4.0  3.0  10.0  \n",
       "87419  62.0   3.0   2.0  40   84.0  1.0   9.0   5.0  5.0  15.0  \n",
       "88789  50.0   4.0   3.0  23  112.0  0.0   3.0   7.0  5.0   5.0  \n",
       "\n",
       "[20 rows x 22 columns]"
      ],
      "text/html": "<div>\n<style scoped>\n    .dataframe tbody tr th:only-of-type {\n        vertical-align: middle;\n    }\n\n    .dataframe tbody tr th {\n        vertical-align: top;\n    }\n\n    .dataframe thead th {\n        text-align: right;\n    }\n</style>\n<table border=\"1\" class=\"dataframe\">\n  <thead>\n    <tr style=\"text-align: right;\">\n      <th></th>\n      <th>playerID</th>\n      <th>yearID</th>\n      <th>stint</th>\n      <th>teamID</th>\n      <th>lgID</th>\n      <th>G</th>\n      <th>AB</th>\n      <th>R</th>\n      <th>H</th>\n      <th>2B</th>\n      <th>...</th>\n      <th>RBI</th>\n      <th>SB</th>\n      <th>CS</th>\n      <th>BB</th>\n      <th>SO</th>\n      <th>IBB</th>\n      <th>HBP</th>\n      <th>SH</th>\n      <th>SF</th>\n      <th>GIDP</th>\n    </tr>\n  </thead>\n  <tbody>\n    <tr>\n      <th>65375</th>\n      <td>biggicr01</td>\n      <td>1988</td>\n      <td>1</td>\n      <td>HOU</td>\n      <td>NL</td>\n      <td>50</td>\n      <td>123</td>\n      <td>14</td>\n      <td>26</td>\n      <td>6</td>\n      <td>...</td>\n      <td>5.0</td>\n      <td>6.0</td>\n      <td>1.0</td>\n      <td>7</td>\n      <td>29.0</td>\n      <td>2.0</td>\n      <td>0.0</td>\n      <td>1.0</td>\n      <td>0.0</td>\n      <td>1.0</td>\n    </tr>\n    <tr>\n      <th>66423</th>\n      <td>biggicr01</td>\n      <td>1989</td>\n      <td>1</td>\n      <td>HOU</td>\n      <td>NL</td>\n      <td>134</td>\n      <td>443</td>\n      <td>64</td>\n      <td>114</td>\n      <td>21</td>\n      <td>...</td>\n      <td>60.0</td>\n      <td>21.0</td>\n      <td>3.0</td>\n      <td>49</td>\n      <td>64.0</td>\n      <td>8.0</td>\n      <td>6.0</td>\n      <td>6.0</td>\n      <td>5.0</td>\n      <td>7.0</td>\n    </tr>\n    <tr>\n      <th>67489</th>\n      <td>biggicr01</td>\n      <td>1990</td>\n      <td>1</td>\n      <td>HOU</td>\n      <td>NL</td>\n      <td>150</td>\n      <td>555</td>\n      <td>53</td>\n      <td>153</td>\n      <td>24</td>\n      <td>...</td>\n      <td>42.0</td>\n      <td>25.0</td>\n      <td>11.0</td>\n      <td>53</td>\n      <td>79.0</td>\n      <td>1.0</td>\n      <td>3.0</td>\n      <td>9.0</td>\n      <td>1.0</td>\n      <td>11.0</td>\n    </tr>\n    <tr>\n      <th>68611</th>\n      <td>biggicr01</td>\n      <td>1991</td>\n      <td>1</td>\n      <td>HOU</td>\n      <td>NL</td>\n      <td>149</td>\n      <td>546</td>\n      <td>79</td>\n      <td>161</td>\n      <td>23</td>\n      <td>...</td>\n      <td>46.0</td>\n      <td>19.0</td>\n      <td>6.0</td>\n      <td>53</td>\n      <td>71.0</td>\n      <td>3.0</td>\n      <td>2.0</td>\n      <td>5.0</td>\n      <td>3.0</td>\n      <td>2.0</td>\n    </tr>\n    <tr>\n      <th>69693</th>\n      <td>biggicr01</td>\n      <td>1992</td>\n      <td>1</td>\n      <td>HOU</td>\n      <td>NL</td>\n      <td>162</td>\n      <td>613</td>\n      <td>96</td>\n      <td>170</td>\n      <td>32</td>\n      <td>...</td>\n      <td>39.0</td>\n      <td>38.0</td>\n      <td>15.0</td>\n      <td>94</td>\n      <td>95.0</td>\n      <td>9.0</td>\n      <td>7.0</td>\n      <td>5.0</td>\n      <td>2.0</td>\n      <td>5.0</td>\n    </tr>\n    <tr>\n      <th>70763</th>\n      <td>biggicr01</td>\n      <td>1993</td>\n      <td>1</td>\n      <td>HOU</td>\n      <td>NL</td>\n      <td>155</td>\n      <td>610</td>\n      <td>98</td>\n      <td>175</td>\n      <td>41</td>\n      <td>...</td>\n      <td>64.0</td>\n      <td>15.0</td>\n      <td>17.0</td>\n      <td>77</td>\n      <td>93.0</td>\n      <td>7.0</td>\n      <td>10.0</td>\n      <td>4.0</td>\n      <td>5.0</td>\n      <td>10.0</td>\n    </tr>\n    <tr>\n      <th>71926</th>\n      <td>biggicr01</td>\n      <td>1994</td>\n      <td>1</td>\n      <td>HOU</td>\n      <td>NL</td>\n      <td>114</td>\n      <td>437</td>\n      <td>88</td>\n      <td>139</td>\n      <td>44</td>\n      <td>...</td>\n      <td>56.0</td>\n      <td>39.0</td>\n      <td>4.0</td>\n      <td>62</td>\n      <td>58.0</td>\n      <td>1.0</td>\n      <td>8.0</td>\n      <td>2.0</td>\n      <td>2.0</td>\n      <td>5.0</td>\n    </tr>\n    <tr>\n      <th>72988</th>\n      <td>biggicr01</td>\n      <td>1995</td>\n      <td>1</td>\n      <td>HOU</td>\n      <td>NL</td>\n      <td>141</td>\n      <td>553</td>\n      <td>123</td>\n      <td>167</td>\n      <td>30</td>\n      <td>...</td>\n      <td>77.0</td>\n      <td>33.0</td>\n      <td>8.0</td>\n      <td>80</td>\n      <td>85.0</td>\n      <td>1.0</td>\n      <td>22.0</td>\n      <td>11.0</td>\n      <td>7.0</td>\n      <td>6.0</td>\n    </tr>\n    <tr>\n      <th>74243</th>\n      <td>biggicr01</td>\n      <td>1996</td>\n      <td>1</td>\n      <td>HOU</td>\n      <td>NL</td>\n      <td>162</td>\n      <td>605</td>\n      <td>113</td>\n      <td>174</td>\n      <td>24</td>\n      <td>...</td>\n      <td>75.0</td>\n      <td>25.0</td>\n      <td>7.0</td>\n      <td>75</td>\n      <td>72.0</td>\n      <td>0.0</td>\n      <td>27.0</td>\n      <td>8.0</td>\n      <td>8.0</td>\n      <td>10.0</td>\n    </tr>\n    <tr>\n      <th>75494</th>\n      <td>biggicr01</td>\n      <td>1997</td>\n      <td>1</td>\n      <td>HOU</td>\n      <td>NL</td>\n      <td>162</td>\n      <td>619</td>\n      <td>146</td>\n      <td>191</td>\n      <td>37</td>\n      <td>...</td>\n      <td>81.0</td>\n      <td>47.0</td>\n      <td>10.0</td>\n      <td>84</td>\n      <td>107.0</td>\n      <td>6.0</td>\n      <td>34.0</td>\n      <td>0.0</td>\n      <td>7.0</td>\n      <td>0.0</td>\n    </tr>\n    <tr>\n      <th>76737</th>\n      <td>biggicr01</td>\n      <td>1998</td>\n      <td>1</td>\n      <td>HOU</td>\n      <td>NL</td>\n      <td>160</td>\n      <td>646</td>\n      <td>123</td>\n      <td>210</td>\n      <td>51</td>\n      <td>...</td>\n      <td>88.0</td>\n      <td>50.0</td>\n      <td>8.0</td>\n      <td>64</td>\n      <td>113.0</td>\n      <td>6.0</td>\n      <td>23.0</td>\n      <td>1.0</td>\n      <td>4.0</td>\n      <td>10.0</td>\n    </tr>\n    <tr>\n      <th>78061</th>\n      <td>biggicr01</td>\n      <td>1999</td>\n      <td>1</td>\n      <td>HOU</td>\n      <td>NL</td>\n      <td>160</td>\n      <td>639</td>\n      <td>123</td>\n      <td>188</td>\n      <td>56</td>\n      <td>...</td>\n      <td>73.0</td>\n      <td>28.0</td>\n      <td>14.0</td>\n      <td>88</td>\n      <td>107.0</td>\n      <td>9.0</td>\n      <td>11.0</td>\n      <td>5.0</td>\n      <td>6.0</td>\n      <td>5.0</td>\n    </tr>\n    <tr>\n      <th>79366</th>\n      <td>biggicr01</td>\n      <td>2000</td>\n      <td>1</td>\n      <td>HOU</td>\n      <td>NL</td>\n      <td>101</td>\n      <td>377</td>\n      <td>67</td>\n      <td>101</td>\n      <td>13</td>\n      <td>...</td>\n      <td>35.0</td>\n      <td>12.0</td>\n      <td>2.0</td>\n      <td>61</td>\n      <td>73.0</td>\n      <td>3.0</td>\n      <td>16.0</td>\n      <td>7.0</td>\n      <td>5.0</td>\n      <td>10.0</td>\n    </tr>\n    <tr>\n      <th>80740</th>\n      <td>biggicr01</td>\n      <td>2001</td>\n      <td>1</td>\n      <td>HOU</td>\n      <td>NL</td>\n      <td>155</td>\n      <td>617</td>\n      <td>118</td>\n      <td>180</td>\n      <td>35</td>\n      <td>...</td>\n      <td>70.0</td>\n      <td>7.0</td>\n      <td>4.0</td>\n      <td>66</td>\n      <td>100.0</td>\n      <td>4.0</td>\n      <td>28.0</td>\n      <td>0.0</td>\n      <td>6.0</td>\n      <td>11.0</td>\n    </tr>\n    <tr>\n      <th>82072</th>\n      <td>biggicr01</td>\n      <td>2002</td>\n      <td>1</td>\n      <td>HOU</td>\n      <td>NL</td>\n      <td>145</td>\n      <td>577</td>\n      <td>96</td>\n      <td>146</td>\n      <td>36</td>\n      <td>...</td>\n      <td>58.0</td>\n      <td>16.0</td>\n      <td>2.0</td>\n      <td>50</td>\n      <td>111.0</td>\n      <td>2.0</td>\n      <td>17.0</td>\n      <td>9.0</td>\n      <td>2.0</td>\n      <td>15.0</td>\n    </tr>\n    <tr>\n      <th>83399</th>\n      <td>biggicr01</td>\n      <td>2003</td>\n      <td>1</td>\n      <td>HOU</td>\n      <td>NL</td>\n      <td>153</td>\n      <td>628</td>\n      <td>102</td>\n      <td>166</td>\n      <td>44</td>\n      <td>...</td>\n      <td>62.0</td>\n      <td>8.0</td>\n      <td>4.0</td>\n      <td>57</td>\n      <td>116.0</td>\n      <td>3.0</td>\n      <td>27.0</td>\n      <td>3.0</td>\n      <td>2.0</td>\n      <td>4.0</td>\n    </tr>\n    <tr>\n      <th>84749</th>\n      <td>biggicr01</td>\n      <td>2004</td>\n      <td>1</td>\n      <td>HOU</td>\n      <td>NL</td>\n      <td>156</td>\n      <td>633</td>\n      <td>100</td>\n      <td>178</td>\n      <td>47</td>\n      <td>...</td>\n      <td>63.0</td>\n      <td>7.0</td>\n      <td>2.0</td>\n      <td>40</td>\n      <td>94.0</td>\n      <td>0.0</td>\n      <td>15.0</td>\n      <td>9.0</td>\n      <td>3.0</td>\n      <td>8.0</td>\n    </tr>\n    <tr>\n      <th>86081</th>\n      <td>biggicr01</td>\n      <td>2005</td>\n      <td>1</td>\n      <td>HOU</td>\n      <td>NL</td>\n      <td>155</td>\n      <td>590</td>\n      <td>94</td>\n      <td>156</td>\n      <td>40</td>\n      <td>...</td>\n      <td>69.0</td>\n      <td>11.0</td>\n      <td>1.0</td>\n      <td>37</td>\n      <td>90.0</td>\n      <td>2.0</td>\n      <td>17.0</td>\n      <td>4.0</td>\n      <td>3.0</td>\n      <td>10.0</td>\n    </tr>\n    <tr>\n      <th>87419</th>\n      <td>biggicr01</td>\n      <td>2006</td>\n      <td>1</td>\n      <td>HOU</td>\n      <td>NL</td>\n      <td>145</td>\n      <td>548</td>\n      <td>79</td>\n      <td>135</td>\n      <td>33</td>\n      <td>...</td>\n      <td>62.0</td>\n      <td>3.0</td>\n      <td>2.0</td>\n      <td>40</td>\n      <td>84.0</td>\n      <td>1.0</td>\n      <td>9.0</td>\n      <td>5.0</td>\n      <td>5.0</td>\n      <td>15.0</td>\n    </tr>\n    <tr>\n      <th>88789</th>\n      <td>biggicr01</td>\n      <td>2007</td>\n      <td>1</td>\n      <td>HOU</td>\n      <td>NL</td>\n      <td>141</td>\n      <td>517</td>\n      <td>68</td>\n      <td>130</td>\n      <td>31</td>\n      <td>...</td>\n      <td>50.0</td>\n      <td>4.0</td>\n      <td>3.0</td>\n      <td>23</td>\n      <td>112.0</td>\n      <td>0.0</td>\n      <td>3.0</td>\n      <td>7.0</td>\n      <td>5.0</td>\n      <td>5.0</td>\n    </tr>\n  </tbody>\n</table>\n<p>20 rows × 22 columns</p>\n</div>"
     },
     "metadata": {},
     "execution_count": 4
    }
   ],
   "source": [
    "a[a['playerID']=='biggicr01']"
   ]
  },
  {
   "cell_type": "code",
   "execution_count": null,
   "metadata": {},
   "outputs": [],
   "source": []
  }
 ]
}